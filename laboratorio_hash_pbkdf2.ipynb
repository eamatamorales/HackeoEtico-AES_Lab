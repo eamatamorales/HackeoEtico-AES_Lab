{
 "cells": [
  {
   "cell_type": "markdown",
   "id": "61a53319",
   "metadata": {},
   "source": [
    "# 🔐 Laboratorio de Criptografía: Hash Seguros y PBKDF2HMAC\n",
    "\n",
    "En este laboratorio aprenderás:\n",
    "\n",
    "- Qué es un hash seguro y para qué se utiliza\n",
    "- Cómo se calcula un hash usando SHA-256\n",
    "- Qué es PBKDF2HMAC y cómo se deriva una clave desde una contraseña\n",
    "- Prácticas seguras para proteger contraseñas y datos sensibles\n"
   ]
  },
  {
   "cell_type": "markdown",
   "id": "710d0269",
   "metadata": {},
   "source": [
    "## 📘 Parte 1: Algoritmos de Hash Seguros\n",
    "\n",
    "Un algoritmo de hash seguro genera una \"huella digital\" única e irreversible de un dato.\n",
    "\n",
    "**Propiedades importantes:**\n",
    "- Determinismo\n",
    "- Unidireccionalidad\n",
    "- Resistencia a colisiones\n",
    "- Difusión completa\n",
    "\n",
    "A continuación, probaremos SHA-256 en Python.\n"
   ]
  },
  {
   "cell_type": "code",
   "execution_count": null,
   "id": "3d008431",
   "metadata": {},
   "outputs": [],
   "source": [
    "import hashlib\n",
    "\n",
    "# Ingrese un texto y calcule su hash SHA-256\n",
    "texto = \"hola mundo\"\n",
    "hash_sha256 = hashlib.sha256(texto.encode()).hexdigest()\n",
    "\n",
    "print(f\"Texto: {texto}\")\n",
    "print(f\"Hash SHA-256: {hash_sha256}\")\n"
   ]
  },
  {
   "cell_type": "markdown",
   "id": "f92b1854",
   "metadata": {},
   "source": [
    "### 🧪 Ejercicio 1\n",
    "\n",
    "1. Cambia el texto en la celda anterior y observa cómo cambia el hash.\n",
    "2. ¿Puedes predecir el nuevo hash antes de ejecutarlo? ¿Por qué no?\n"
   ]
  },
  {
   "cell_type": "markdown",
   "id": "07812b65",
   "metadata": {},
   "source": [
    "## 🔐 Parte 2: Derivación de claves con PBKDF2HMAC\n",
    "\n",
    "PBKDF2HMAC es un algoritmo que toma una contraseña y la convierte en una clave segura usando:\n",
    "\n",
    "- Un **salt** (valor aleatorio)\n",
    "- Un número elevado de iteraciones\n",
    "- Un algoritmo de hash como SHA-256\n"
   ]
  },
  {
   "cell_type": "code",
   "execution_count": null,
   "id": "688124a3",
   "metadata": {},
   "outputs": [],
   "source": [
    "import base64\n",
    "import os\n",
    "from cryptography.hazmat.primitives.kdf.pbkdf2 import PBKDF2HMAC\n",
    "from cryptography.hazmat.primitives import hashes\n",
    "from cryptography.hazmat.backends import default_backend\n",
    "\n",
    "# Contraseña del usuario\n",
    "password = b\"miclave123\"\n",
    "salt = os.urandom(16)  # salt aleatorio\n",
    "\n",
    "# Derivación\n",
    "kdf = PBKDF2HMAC(\n",
    "    algorithm=hashes.SHA256(),\n",
    "    length=32,\n",
    "    salt=salt,\n",
    "    iterations=100_000,\n",
    "    backend=default_backend()\n",
    ")\n",
    "\n",
    "clave_segura = base64.urlsafe_b64encode(kdf.derive(password))\n",
    "print(f\"Clave derivada: {clave_segura}\")\n"
   ]
  },
  {
   "cell_type": "markdown",
   "id": "818c681f",
   "metadata": {},
   "source": [
    "### 🧪 Ejercicio 2\n",
    "\n",
    "1. Cambia la contraseña o el salt y observa cómo cambia la clave resultante.\n",
    "2. ¿Por qué es importante el uso del `salt`?\n",
    "3. ¿Qué pasa si usas menos iteraciones? ¿Y si las aumentas?\n"
   ]
  }
 ],
 "metadata": {},
 "nbformat": 4,
 "nbformat_minor": 5
}
