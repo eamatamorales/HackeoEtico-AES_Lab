{
 "cells": [
  {
   "cell_type": "markdown",
   "id": "61a53319",
   "metadata": {},
   "source": [
    "# 🔐 Laboratorio de Criptografía: Hash Seguros y PBKDF2HMAC\n",
    "\n",
    "En este laboratorio aprenderás:\n",
    "\n",
    "- Qué es un hash seguro y para qué se utiliza\n",
    "- Cómo se calcula un hash usando SHA-256\n",
    "- Qué es PBKDF2HMAC y cómo se deriva una clave desde una contraseña\n",
    "- Prácticas seguras para proteger contraseñas y datos sensibles\n"
   ]
  },
  {
   "cell_type": "markdown",
   "id": "3284ffb3",
   "metadata": {},
   "source": [
    "# 🔐 Laboratorio Teórico-Práctico: Hash Seguros y Derivación de Claves (PBKDF2HMAC)\n",
    "\n",
    "Este notebook combina teoría y práctica para comprender:\n",
    "\n",
    "- Qué es un algoritmo de hash y por qué debe ser seguro\n",
    "- Propiedades fundamentales de un hash seguro con explicación\n",
    "- Cómo implementar un hash con SHA-256\n",
    "- Qué es PBKDF2HMAC y cómo se utiliza para proteger contraseñas\n"
   ]
  },
  {
   "cell_type": "markdown",
   "id": "fa4fe55a",
   "metadata": {},
   "source": [
    "## 📘 ¿Qué es un Hash?\n",
    "\n",
    "Un **hash** es una función que convierte cualquier entrada (texto, archivo, contraseña) en una salida de longitud fija, llamada **valor hash** o **digest**.\n",
    "\n",
    "Por ejemplo:\n",
    "\n",
    "- Entrada: \"hola\"\n",
    "- Hash SHA-256: `b1946ac92492d2347c6235b4d2611184`\n",
    "\n",
    "Los hashes son utilizados en criptografía para garantizar la **integridad** de los datos, almacenar contraseñas de forma segura y verificar autenticidad.\n"
   ]
  },
  {
   "cell_type": "markdown",
   "id": "de793958",
   "metadata": {},
   "source": [
    "## 📌 Propiedades de un Hash Seguro\n",
    "\n",
    "1. **Determinismo**  \n",
    "   Siempre que se aplique la función hash al mismo dato de entrada, se obtendrá exactamente el mismo resultado.  \n",
    "   > Ejemplo: `hash(\"mensaje\")` dará el mismo valor hoy o mañana.\n",
    "\n",
    "\n",
    "2. **Unidireccionalidad**  \n",
    "   No es posible deducir la entrada original a partir del hash resultante. Esto protege contraseñas e información privada.  \n",
    "   > Es imposible (en teoría) \"revertir\" un hash.\n",
    "\n",
    "\n",
    "3. **Difusión completa (Avalanche effect)**  \n",
    "   Un pequeño cambio en la entrada genera un cambio radical en el hash.  \n",
    "   > Ejemplo: cambiar una letra produce un hash totalmente distinto.\n",
    "\n",
    "\n",
    "4. **Resistencia a colisiones**  \n",
    "   Es extremadamente difícil encontrar dos entradas distintas que produzcan el mismo hash.  \n",
    "   > Fundamental para firmas digitales y verificación de datos.\n",
    "\n",
    "\n",
    "5. **Eficiencia computacional**  \n",
    "   Calcular un hash debe ser rápido y no consumir muchos recursos, incluso con grandes cantidades de datos.\n"
   ]
  },
  {
   "cell_type": "markdown",
   "id": "9d9d8af0",
   "metadata": {},
   "source": [
    "## 🔐 Cálculo de Hash SHA-256 en Python"
   ]
  },
  {
   "cell_type": "code",
   "execution_count": 1,
   "id": "de77180f",
   "metadata": {},
   "outputs": [
    {
     "name": "stdout",
     "output_type": "stream",
     "text": [
      "Texto: hola mundo\n",
      "Hash:  0b894166d3336435c800bea36ff21b29eaa801a52f584c006c49289a0dcf6e2f\n",
      "\n",
      "Texto: hola Mundo\n",
      "Hash:  00256edc2cabb60f547b376373e936ac4a5ba78a0ca00960eea3703ac2a707c5\n",
      "\n",
      "Texto: Hola mundo!\n",
      "Hash:  1e479f4d871e59e9054aad62105a259726801d5f494acbfcd40591c82f9b3136\n",
      "\n"
     ]
    }
   ],
   "source": [
    "import hashlib\n",
    "\n",
    "# Probar hashing con distintas entradas\n",
    "mensajes = [\"hola mundo\", \"hola Mundo\", \"Hola mundo!\"]\n",
    "\n",
    "for msg in mensajes:\n",
    "    digest = hashlib.sha256(msg.encode()).hexdigest()\n",
    "    print(f\"Texto: {msg}\")\n",
    "    print(f\"Hash:  {digest}\\n\")\n"
   ]
  },
  {
   "cell_type": "markdown",
   "id": "4cc1d0af",
   "metadata": {},
   "source": [
    "### 🧪 Ejercicio 1\n",
    "\n",
    "1. Agrega tus propios mensajes a la lista y observa cómo el hash cambia completamente.\n",
    "2. Intenta usar entradas similares (como espacios extra) para confirmar la propiedad de difusión completa.\n"
   ]
  },
  {
   "cell_type": "markdown",
   "id": "d5e72a8b",
   "metadata": {},
   "source": [
    "## 🔐 ¿Qué es PBKDF2HMAC?\n",
    "\n",
    "**PBKDF2** (Password-Based Key Derivation Function 2) es una función que convierte una contraseña en una clave criptográfica segura.\n",
    "\n",
    "Para hacerlo aún más robusto, se combina con **HMAC** (Hash-based Message Authentication Code) y un algoritmo de hash como SHA-256.\n",
    "\n",
    "### ¿Por qué se usa?\n",
    "\n",
    "- Las contraseñas por sí solas son fáciles de adivinar (123456, admin123, etc.).\n",
    "- PBKDF2HMAC hace que generar la clave lleve tiempo computacional.\n",
    "- Usa un **salt** aleatorio y muchas iteraciones para hacer inviable ataques por diccionario o fuerza bruta.\n",
    "\n"
   ]
  },
  {
   "cell_type": "code",
   "execution_count": 1,
   "id": "59269b03",
   "metadata": {},
   "outputs": [
    {
     "name": "stdout",
     "output_type": "stream",
     "text": [
      "Clave derivada: b'q_7preDqO4eZdAwUK6W49VSVIUrYuWDEwZk_86BxxIg='\n"
     ]
    }
   ],
   "source": [
    "import base64, os\n",
    "from cryptography.hazmat.primitives.kdf.pbkdf2 import PBKDF2HMAC\n",
    "from cryptography.hazmat.primitives import hashes\n",
    "from cryptography.hazmat.backends import default_backend\n",
    "\n",
    "# Datos de entrada\n",
    "password = b\"contrasena_segura\"\n",
    "salt = os.urandom(16)\n",
    "\n",
    "# Derivación\n",
    "kdf = PBKDF2HMAC(\n",
    "    algorithm=hashes.SHA256(),\n",
    "    length=32,\n",
    "    salt=salt,\n",
    "    iterations=100000,\n",
    "    backend=default_backend()\n",
    ")\n",
    "\n",
    "clave = base64.urlsafe_b64encode(kdf.derive(password))\n",
    "print(\"Clave derivada:\", clave)\n"
   ]
  },
  {
   "cell_type": "markdown",
   "id": "2112496a",
   "metadata": {},
   "source": []
  },
  {
   "cell_type": "markdown",
   "id": "3a989711",
   "metadata": {},
   "source": [
    "### 🧪 Ejercicio 2\n",
    "\n",
    "1. Cambia la contraseña o el `salt` y observa cómo cambia la clave derivada.\n",
    "2. ¿Qué pasa si reduces las iteraciones a 10? ¿Y si las aumentas a 1,000,000?\n",
    "3. Explica por qué un atacante no puede simplemente probar todas las claves posibles.\n"
   ]
  },
  {
   "cell_type": "markdown",
   "id": "710d0269",
   "metadata": {},
   "source": [
    "## 📘 Parte 1: Algoritmos de Hash Seguros\n",
    "\n",
    "Un algoritmo de hash seguro genera una \"huella digital\" única e irreversible de un dato.\n",
    "\n",
    "**Propiedades importantes:**\n",
    "- Determinismo\n",
    "- Unidireccionalidad\n",
    "- Resistencia a colisiones\n",
    "- Difusión completa\n",
    "\n",
    "A continuación, probaremos SHA-256 en Python.\n"
   ]
  },
  {
   "cell_type": "code",
   "execution_count": 3,
   "id": "3d008431",
   "metadata": {},
   "outputs": [
    {
     "name": "stdout",
     "output_type": "stream",
     "text": [
      "Texto: hola mundo\n",
      "Hash SHA-256: 0b894166d3336435c800bea36ff21b29eaa801a52f584c006c49289a0dcf6e2f\n"
     ]
    }
   ],
   "source": [
    "import hashlib\n",
    "\n",
    "# Ingrese un texto y calcule su hash SHA-256\n",
    "texto = \"hola mundo\"\n",
    "hash_sha256 = hashlib.sha256(texto.encode()).hexdigest()\n",
    "\n",
    "print(f\"Texto: {texto}\")\n",
    "print(f\"Hash SHA-256: {hash_sha256}\")\n"
   ]
  },
  {
   "cell_type": "markdown",
   "id": "f92b1854",
   "metadata": {},
   "source": [
    "### 🧪 Ejercicio 1\n",
    "\n",
    "1. Cambia el texto en la celda anterior y observa cómo cambia el hash.\n",
    "2. ¿Puedes predecir el nuevo hash antes de ejecutarlo? ¿Por qué no?\n"
   ]
  },
  {
   "cell_type": "markdown",
   "id": "07812b65",
   "metadata": {},
   "source": [
    "## 🔐 Parte 2: Derivación de claves con PBKDF2HMAC\n",
    "\n",
    "PBKDF2HMAC es un algoritmo que toma una contraseña y la convierte en una clave segura usando:\n",
    "\n",
    "- Un **salt** (valor aleatorio)\n",
    "- Un número elevado de iteraciones\n",
    "- Un algoritmo de hash como SHA-256\n"
   ]
  },
  {
   "cell_type": "code",
   "execution_count": 2,
   "id": "688124a3",
   "metadata": {},
   "outputs": [
    {
     "name": "stdout",
     "output_type": "stream",
     "text": [
      "Clave derivada: b'_BzvY4kgQHyNV-2MYWfXKSQI_jz1ukM_2a3_3ecTDJs='\n"
     ]
    }
   ],
   "source": [
    "import base64\n",
    "import os\n",
    "from cryptography.hazmat.primitives.kdf.pbkdf2 import PBKDF2HMAC\n",
    "from cryptography.hazmat.primitives import hashes\n",
    "from cryptography.hazmat.backends import default_backend\n",
    "\n",
    "# Contraseña del usuario\n",
    "password = b\"miclave123\"\n",
    "salt = os.urandom(16)  # salt aleatorio\n",
    "\n",
    "# Derivación\n",
    "kdf = PBKDF2HMAC(\n",
    "    algorithm=hashes.SHA256(),\n",
    "    length=32,\n",
    "    salt=salt,\n",
    "    iterations=100000,\n",
    "    backend=default_backend()\n",
    ")\n",
    "\n",
    "clave_segura = base64.urlsafe_b64encode(kdf.derive(password))\n",
    "print(f\"Clave derivada: {clave_segura}\")\n"
   ]
  },
  {
   "cell_type": "markdown",
   "id": "818c681f",
   "metadata": {},
   "source": [
    "### 🧪 Ejercicio 2\n",
    "\n",
    "1. Cambia la contraseña o el salt y observa cómo cambia la clave resultante.\n",
    "2. ¿Por qué es importante el uso del `salt`?\n",
    "3. ¿Qué pasa si usas menos iteraciones? ¿Y si las aumentas?\n"
   ]
  }
 ],
 "metadata": {
  "interpreter": {
   "hash": "7e1998ff7f8aa20ada591c520b972326324e5ea05489af9e422744c7c09f6dad"
  },
  "kernelspec": {
   "display_name": "Python 3.10.8 64-bit",
   "language": "python",
   "name": "python3"
  },
  "language_info": {
   "codemirror_mode": {
    "name": "ipython",
    "version": 3
   },
   "file_extension": ".py",
   "mimetype": "text/x-python",
   "name": "python",
   "nbconvert_exporter": "python",
   "pygments_lexer": "ipython3",
   "version": "3.13.3"
  }
 },
 "nbformat": 4,
 "nbformat_minor": 5
}
